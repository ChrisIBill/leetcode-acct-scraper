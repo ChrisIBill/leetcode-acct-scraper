{
 "cells": [
  {
   "cell_type": "code",
   "execution_count": 1,
   "metadata": {},
   "outputs": [],
   "source": [
    "%load_ext autoreload\n",
    "%autoreload 2"
   ]
  },
  {
   "cell_type": "code",
   "execution_count": 2,
   "metadata": {
    "tags": []
   },
   "outputs": [],
   "source": [
    "import importlib\n",
    "import scrapers\n",
    "import utils\n",
    "from selenium.webdriver.common.by import By"
   ]
  },
  {
   "cell_type": "code",
   "execution_count": 3,
   "metadata": {},
   "outputs": [
    {
     "name": "stdout",
     "output_type": "stream",
     "text": [
      "['https://leetcode.com/problems/add-digits/', 'https://leetcode.com/problems/add-edges-to-make-degrees-of-all-nodes-even/', 'https://leetcode.com/problems/alternating-digit-sum/', 'https://leetcode.com/problems/append-characters-to-string-to-make-subsequence/', 'https://leetcode.com/problems/apply-bitwise-operations-to-make-strings-equal/', 'https://leetcode.com/problems/apply-operations-to-an-array/', 'https://leetcode.com/problems/apply-transform-over-each-element-in-array/', 'https://leetcode.com/problems/array-prototype-last/', 'https://leetcode.com/problems/array-reduce-transformation/', 'https://leetcode.com/problems/average-value-of-even-numbers-that-are-divisible-by-three/', 'https://leetcode.com/problems/beautiful-pairs/', 'https://leetcode.com/problems/cache-with-time-limit/', 'https://leetcode.com/problems/calculate-delayed-arrival-time/', 'https://leetcode.com/problems/categorize-box-according-to-criteria/', 'https://leetcode.com/problems/check-if-object-instance-of-class/', 'https://leetcode.com/problems/check-if-point-is-reachable/', 'https://leetcode.com/problems/check-knight-tour-configuration/', 'https://leetcode.com/problems/circular-sentence/', 'https://leetcode.com/problems/closest-nodes-queries-in-a-binary-search-tree/', 'https://leetcode.com/problems/closest-prime-numbers-in-range/', 'https://leetcode.com/problems/collect-coins-in-a-tree/', 'https://leetcode.com/problems/color-the-triangle-red/', 'https://leetcode.com/problems/convert-an-array-into-a-2d-array-with-conditions/', 'https://leetcode.com/problems/convert-object-to-json-string/', 'https://leetcode.com/problems/convert-the-temperature/', 'https://leetcode.com/problems/count-anagrams/', 'https://leetcode.com/problems/count-collisions-of-monkeys-on-a-polygon/', 'https://leetcode.com/problems/count-distinct-numbers-on-board/', 'https://leetcode.com/problems/count-increasing-quadruplets/', 'https://leetcode.com/problems/count-number-of-distinct-integers-after-reverse-operations/', 'https://leetcode.com/problems/count-number-of-possible-root-nodes/', 'https://leetcode.com/problems/count-pairs-of-similar-strings/', 'https://leetcode.com/problems/count-palindromic-subsequences/', 'https://leetcode.com/problems/count-subarrays-with-fixed-bounds/', 'https://leetcode.com/problems/count-subarrays-with-median-k/', 'https://leetcode.com/problems/count-the-digits-that-divide-a-number/', 'https://leetcode.com/problems/count-the-number-of-beautiful-subarrays/', 'https://leetcode.com/problems/count-the-number-of-fair-pairs/', 'https://leetcode.com/problems/count-the-number-of-good-subarrays/', 'https://leetcode.com/problems/count-the-number-of-k-free-subsets/', 'https://leetcode.com/problems/count-the-number-of-square-free-subsets/', 'https://leetcode.com/problems/count-the-number-of-vowel-strings-in-range/', 'https://leetcode.com/problems/count-total-number-of-colored-cells/', 'https://leetcode.com/problems/count-vowel-strings-in-ranges/', 'https://leetcode.com/problems/count-ways-to-build-good-strings/', 'https://leetcode.com/problems/count-ways-to-group-overlapping-ranges/', 'https://leetcode.com/problems/counter/', 'https://leetcode.com/problems/cousins-in-binary-tree-ii/', 'https://leetcode.com/problems/create-components-with-same-value/', 'https://leetcode.com/problems/curry/', 'https://leetcode.com/problems/cycle-length-queries-in-a-tree/', 'https://leetcode.com/problems/debounce/', 'https://leetcode.com/problems/delete-greatest-value-in-each-row/', 'https://leetcode.com/problems/design-a-todo-list/', 'https://leetcode.com/problems/design-cancellable-function/', 'https://leetcode.com/problems/design-graph-with-shortest-path-calculator/', 'https://leetcode.com/problems/design-memory-allocator/', 'https://leetcode.com/problems/destroy-sequential-targets/', 'https://leetcode.com/problems/determine-if-two-events-have-conflict/', 'https://leetcode.com/problems/difference-between-element-sum-and-digit-sum-of-an-array/', 'https://leetcode.com/problems/difference-between-maximum-and-minimum-price-sum/', 'https://leetcode.com/problems/difference-between-ones-and-zeros-in-row-and-column/', 'https://leetcode.com/problems/disconnect-path-in-a-binary-matrix-by-at-most-one-flip/', 'https://leetcode.com/problems/distinct-prime-factors-of-product-of-array/', 'https://leetcode.com/problems/distribute-money-to-maximum-children/', 'https://leetcode.com/problems/divide-nodes-into-the-maximum-number-of-groups/', 'https://leetcode.com/problems/divide-players-into-teams-of-equal-skill/', 'https://leetcode.com/problems/filter-elements-from-array/', 'https://leetcode.com/problems/find-consecutive-integers-from-a-data-stream/', 'https://leetcode.com/problems/find-score-of-an-array-after-marking-all-elements/', 'https://leetcode.com/problems/find-the-array-concatenation-value/', 'https://leetcode.com/problems/find-the-divisibility-array-of-a-string/', 'https://leetcode.com/problems/find-the-longest-balanced-substring-of-a-binary-string/', 'https://leetcode.com/problems/find-the-maximum-divisibility-score/', 'https://leetcode.com/problems/find-the-maximum-number-of-marked-indices/', 'https://leetcode.com/problems/find-the-pivot-integer/', 'https://leetcode.com/problems/find-the-score-of-all-prefixes-of-an-array/', 'https://leetcode.com/problems/find-the-string-with-lcp/', 'https://leetcode.com/problems/find-the-substring-with-maximum-cost/', 'https://leetcode.com/problems/find-the-width-of-columns-of-a-grid/', 'https://leetcode.com/problems/find-xor-beauty-of-array/', 'https://leetcode.com/problems/flatten-deeply-nested-array/', 'https://leetcode.com/problems/form-smallest-number-from-two-digit-arrays/', 'https://leetcode.com/problems/frog-jump-ii/', 'https://leetcode.com/problems/function-composition/', 'https://leetcode.com/problems/generate-fibonacci-sequence/', 'https://leetcode.com/problems/group-by/', 'https://leetcode.com/problems/handling-sum-queries-after-update/', 'https://leetcode.com/problems/height-of-binary-tree-after-subtree-removal-queries/', 'https://leetcode.com/problems/house-robber-iv/', 'https://leetcode.com/problems/increment-submatrices-by-one/', 'https://leetcode.com/problems/json-deep-equal/', 'https://leetcode.com/problems/k-items-with-the-maximum-sum/', 'https://leetcode.com/problems/kth-largest-sum-in-a-binary-tree/', 'https://leetcode.com/problems/largest-positive-integer-that-exists-with-its-negative/', 'https://leetcode.com/problems/left-and-right-sum-differences/', 'https://leetcode.com/problems/longest-square-streak-in-an-array/', 'https://leetcode.com/problems/make-k-subarray-sums-equal/', 'https://leetcode.com/problems/make-number-of-distinct-characters-equal/', 'https://leetcode.com/problems/make-the-prefix-sum-non-negative/', 'https://leetcode.com/problems/maximal-score-after-applying-k-operations/', 'https://leetcode.com/problems/maximize-greatness-of-an-array/', 'https://leetcode.com/problems/maximize-the-minimum-powered-city/', 'https://leetcode.com/problems/maximize-win-from-two-segments/', 'https://leetcode.com/problems/maximum-count-of-positive-integer-and-negative-integer/', 'https://leetcode.com/problems/maximum-difference-by-remapping-a-digit/', 'https://leetcode.com/problems/maximum-enemy-forts-that-can-be-captured/', 'https://leetcode.com/problems/maximum-number-of-integers-to-choose-from-a-range-i/', 'https://leetcode.com/problems/maximum-number-of-integers-to-choose-from-a-range-ii/', 'https://leetcode.com/problems/maximum-number-of-non-overlapping-palindrome-substrings/', 'https://leetcode.com/problems/maximum-number-of-points-from-grid-queries/', 'https://leetcode.com/problems/maximum-star-sum-of-a-graph/', 'https://leetcode.com/problems/maximum-subsequence-score/', 'https://leetcode.com/problems/maximum-sum-of-distinct-subarrays-with-length-k/', 'https://leetcode.com/problems/maximum-tastiness-of-candy-basket/', 'https://leetcode.com/problems/maximum-value-of-a-string-in-an-array/', 'https://leetcode.com/problems/memoize-ii/', 'https://leetcode.com/problems/memoize/', 'https://leetcode.com/problems/merge-two-2d-arrays-by-summing-values/', 'https://leetcode.com/problems/mice-and-cheese/', 'https://leetcode.com/problems/minimize-maximum-of-array/', 'https://leetcode.com/problems/minimize-the-maximum-difference-of-pairs/', 'https://leetcode.com/problems/minimize-the-maximum-of-two-arrays/', 'https://leetcode.com/problems/minimize-the-total-price-of-the-trips/', 'https://leetcode.com/problems/minimum-addition-to-make-integer-beautiful/', 'https://leetcode.com/problems/minimum-additions-to-make-valid-string/', 'https://leetcode.com/problems/minimum-common-value/', 'https://leetcode.com/problems/minimum-cost-to-make-array-equal/', 'https://leetcode.com/problems/minimum-cost-to-split-an-array/', 'https://leetcode.com/problems/minimum-cuts-to-divide-a-circle/', 'https://leetcode.com/problems/minimum-fuel-cost-to-report-to-the-capital/', 'https://leetcode.com/problems/minimum-impossible-or/', 'https://leetcode.com/problems/minimum-number-of-operations-to-make-all-array-elements-equal-to-1/', 'https://leetcode.com/problems/minimum-number-of-operations-to-make-arrays-similar/', 'https://leetcode.com/problems/minimum-number-of-operations-to-sort-a-binary-tree-by-level/', 'https://leetcode.com/problems/minimum-number-of-visited-cells-in-a-grid/', 'https://leetcode.com/problems/minimum-operations-to-make-all-array-elements-equal/', 'https://leetcode.com/problems/minimum-operations-to-make-array-equal-ii/', 'https://leetcode.com/problems/minimum-operations-to-reduce-an-integer-to-0/', 'https://leetcode.com/problems/minimum-penalty-for-a-shop/', 'https://leetcode.com/problems/minimum-reverse-operations/', 'https://leetcode.com/problems/minimum-score-by-changing-two-elements/', 'https://leetcode.com/problems/minimum-score-of-a-path-between-two-cities/', 'https://leetcode.com/problems/minimum-time-to-complete-all-tasks/', 'https://leetcode.com/problems/minimum-time-to-eat-all-grains/', 'https://leetcode.com/problems/minimum-time-to-repair-cars/', 'https://leetcode.com/problems/minimum-time-to-visit-a-cell-in-a-grid/', 'https://leetcode.com/problems/minimum-total-cost-to-make-arrays-unequal/', 'https://leetcode.com/problems/minimum-total-distance-traveled/', 'https://leetcode.com/problems/most-popular-video-creator/', 'https://leetcode.com/problems/most-profitable-path-in-a-tree/', 'https://leetcode.com/problems/nested-array-generator/', 'https://leetcode.com/problems/next-greater-element-iv/', 'https://leetcode.com/problems/number-of-beautiful-partitions/', 'https://leetcode.com/problems/number-of-distinct-averages/', 'https://leetcode.com/problems/number-of-even-and-odd-bits/', 'https://leetcode.com/problems/number-of-great-partitions/', 'https://leetcode.com/problems/number-of-subarrays-with-gcd-equal-to-k/', 'https://leetcode.com/problems/number-of-subarrays-with-lcm-equal-to-k/', 'https://leetcode.com/problems/number-of-unequal-triplets-in-array/', 'https://leetcode.com/problems/number-of-valid-clock-times/', 'https://leetcode.com/problems/number-of-ways-to-earn-points/', 'https://leetcode.com/problems/odd-string-difference/', 'https://leetcode.com/problems/partition-string-into-substrings-with-values-at-most-k/', 'https://leetcode.com/problems/pass-the-pillow/', 'https://leetcode.com/problems/paths-in-matrix-whose-sum-is-divisible-by-k/', 'https://leetcode.com/problems/prime-in-diagonal/', 'https://leetcode.com/problems/prime-subtraction-operation/', 'https://leetcode.com/problems/promise-pool/', 'https://leetcode.com/problems/promise-time-limit/', 'https://leetcode.com/problems/put-marbles-in-bags/', 'https://leetcode.com/problems/range-product-queries-of-powers/', 'https://leetcode.com/problems/rearrange-array-to-maximize-prefix-score/', 'https://leetcode.com/problems/rearranging-fruits/', 'https://leetcode.com/problems/remove-nodes-from-linked-list/', 'https://leetcode.com/problems/reward-top-k-students/', 'https://leetcode.com/problems/row-with-maximum-ones/', 'https://leetcode.com/problems/separate-the-digits-in-an-array/', 'https://leetcode.com/problems/shortest-cycle-in-a-graph/', 'https://leetcode.com/problems/shortest-distance-to-target-string-in-a-circular-array/', 'https://leetcode.com/problems/sleep/', 'https://leetcode.com/problems/sliding-subarray-beauty/', 'https://leetcode.com/problems/smallest-missing-non-negative-integer-after-operations/', 'https://leetcode.com/problems/smallest-number-in-infinite-set/', 'https://leetcode.com/problems/smallest-value-after-replacing-with-sum-of-prime-factors/', 'https://leetcode.com/problems/snail-traversal/', 'https://leetcode.com/problems/sort-the-students-by-their-kth-score/', 'https://leetcode.com/problems/split-message-based-on-limit/', 'https://leetcode.com/problems/split-the-array-to-make-coprime-products/', 'https://leetcode.com/problems/split-with-minimum-sum/', 'https://leetcode.com/problems/subsequence-with-the-minimum-score/', 'https://leetcode.com/problems/substring-xor-queries/', 'https://leetcode.com/problems/sum-multiples/', 'https://leetcode.com/problems/sum-of-distances/', 'https://leetcode.com/problems/sum-of-number-and-its-reverse/', 'https://leetcode.com/problems/take-gifts-from-the-richest-pile/', 'https://leetcode.com/problems/take-k-of-each-character-from-left-and-right/', 'https://leetcode.com/problems/the-number-of-beautiful-subsets/', 'https://leetcode.com/problems/time-to-cross-a-bridge/', 'https://leetcode.com/problems/total-cost-to-hire-k-workers/', 'https://leetcode.com/problems/words-within-two-edits-of-dictionary/']\n"
     ]
    }
   ],
   "source": [
    "existingProblems = utils.dbHandler.getProblemsLinksFromDB()\n",
    "print(existingProblems)"
   ]
  },
  {
   "cell_type": "code",
   "execution_count": 4,
   "metadata": {},
   "outputs": [],
   "source": [
    "driver = utils.launchDriver()"
   ]
  },
  {
   "cell_type": "code",
   "execution_count": 5,
   "metadata": {},
   "outputs": [
    {
     "name": "stdout",
     "output_type": "stream",
     "text": [
      "Alert Detected:  ✨ New Problem Category!\n",
      "Try the new JavaScript questions to prepare for your Front-End Interview\n",
      "No, thanks\n",
      "Try it now\n",
      "Getting problem links\n",
      "Already in DB, skipping,  258. Add Digits https://leetcode.com/problems/add-digits/\n",
      "Already in DB, skipping,  2654. Minimum Number of Operations to Make All Array Elements Equal to 1 https://leetcode.com/problems/minimum-number-of-operations-to-make-all-array-elements-equal-to-1/\n",
      "Already in DB, skipping,  2653. Sliding Subarray Beauty https://leetcode.com/problems/sliding-subarray-beauty/\n",
      "Already in DB, skipping,  2652. Sum Multiples https://leetcode.com/problems/sum-multiples/\n",
      "Already in DB, skipping,  2651. Calculate Delayed Arrival Time https://leetcode.com/problems/calculate-delayed-arrival-time/\n",
      "Already in DB, skipping,  2650. Design Cancellable Function https://leetcode.com/problems/design-cancellable-function/\n",
      "Already in DB, skipping,  2649. Nested Array Generator https://leetcode.com/problems/nested-array-generator/\n",
      "Already in DB, skipping,  2648. Generate Fibonacci Sequence https://leetcode.com/problems/generate-fibonacci-sequence/\n",
      "Premium problem, skipping 2647. Color the Triangle Red\n",
      "Array\n",
      "Math\n",
      "Already in DB, skipping,  2646. Minimize the Total Price of the Trips https://leetcode.com/problems/minimize-the-total-price-of-the-trips/\n",
      "Already in DB, skipping,  2645. Minimum Additions to Make Valid String https://leetcode.com/problems/minimum-additions-to-make-valid-string/\n",
      "Already in DB, skipping,  2644. Find the Maximum Divisibility Score https://leetcode.com/problems/find-the-maximum-divisibility-score/\n",
      "Already in DB, skipping,  2643. Row With Maximum Ones https://leetcode.com/problems/row-with-maximum-ones/\n",
      "Already in DB, skipping,  2642. Design Graph With Shortest Path Calculator https://leetcode.com/problems/design-graph-with-shortest-path-calculator/\n",
      "Already in DB, skipping,  2641. Cousins in Binary Tree II https://leetcode.com/problems/cousins-in-binary-tree-ii/\n",
      "Already in DB, skipping,  2640. Find the Score of All Prefixes of an Array https://leetcode.com/problems/find-the-score-of-all-prefixes-of-an-array/\n",
      "Already in DB, skipping,  2639. Find the Width of Columns of a Grid https://leetcode.com/problems/find-the-width-of-columns-of-a-grid/\n",
      "Premium problem, skipping 2638. Count the Number of K-Free Subsets\n",
      "Array\n",
      "Dynamic Programming\n",
      "Sorting\n",
      "Already in DB, skipping,  2637. Promise Time Limit https://leetcode.com/problems/promise-time-limit/\n",
      "Already in DB, skipping,  2636. Promise Pool https://leetcode.com/problems/promise-pool/\n",
      "Already in DB, skipping,  2635. Apply Transform Over Each Element in Array https://leetcode.com/problems/apply-transform-over-each-element-in-array/\n",
      "Already in DB, skipping,  2634. Filter Elements from Array https://leetcode.com/problems/filter-elements-from-array/\n",
      "Already in DB, skipping,  2633. Convert Object to JSON String https://leetcode.com/problems/convert-object-to-json-string/\n",
      "Already in DB, skipping,  2632. Curry https://leetcode.com/problems/curry/\n",
      "Already in DB, skipping,  2631. Group By https://leetcode.com/problems/group-by/\n",
      "Already in DB, skipping,  2630. Memoize II https://leetcode.com/problems/memoize-ii/\n",
      "Already in DB, skipping,  2629. Function Composition https://leetcode.com/problems/function-composition/\n",
      "Already in DB, skipping,  2628. JSON Deep Equal https://leetcode.com/problems/json-deep-equal/\n",
      "Already in DB, skipping,  2627. Debounce https://leetcode.com/problems/debounce/\n",
      "Already in DB, skipping,  2626. Array Reduce Transformation https://leetcode.com/problems/array-reduce-transformation/\n",
      "Already in DB, skipping,  2625. Flatten Deeply Nested Array https://leetcode.com/problems/flatten-deeply-nested-array/\n",
      "Already in DB, skipping,  2624. Snail Traversal https://leetcode.com/problems/snail-traversal/\n",
      "Already in DB, skipping,  2623. Memoize https://leetcode.com/problems/memoize/\n",
      "Already in DB, skipping,  2622. Cache With Time Limit https://leetcode.com/problems/cache-with-time-limit/\n",
      "Already in DB, skipping,  2621. Sleep https://leetcode.com/problems/sleep/\n",
      "Already in DB, skipping,  2620. Counter https://leetcode.com/problems/counter/\n",
      "Already in DB, skipping,  2619. Array Prototype Last https://leetcode.com/problems/array-prototype-last/\n",
      "Already in DB, skipping,  2618. Check if Object Instance of Class https://leetcode.com/problems/check-if-object-instance-of-class/\n",
      "Already in DB, skipping,  2617. Minimum Number of Visited Cells in a Grid https://leetcode.com/problems/minimum-number-of-visited-cells-in-a-grid/\n",
      "Already in DB, skipping,  2616. Minimize the Maximum Difference of Pairs https://leetcode.com/problems/minimize-the-maximum-difference-of-pairs/\n",
      "Already in DB, skipping,  2615. Sum of Distances https://leetcode.com/problems/sum-of-distances/\n",
      "Already in DB, skipping,  2614. Prime In Diagonal https://leetcode.com/problems/prime-in-diagonal/\n",
      "Premium problem, skipping 2613. Beautiful Pairs\n",
      "Array\n",
      "Math\n",
      "Divide and Conquer\n",
      "3+\n",
      "Already in DB, skipping,  2612. Minimum Reverse Operations https://leetcode.com/problems/minimum-reverse-operations/\n",
      "Already in DB, skipping,  2611. Mice and Cheese https://leetcode.com/problems/mice-and-cheese/\n",
      "Already in DB, skipping,  2610. Convert an Array Into a 2D Array With Conditions https://leetcode.com/problems/convert-an-array-into-a-2d-array-with-conditions/\n",
      "Already in DB, skipping,  2609. Find the Longest Balanced Substring of a Binary String https://leetcode.com/problems/find-the-longest-balanced-substring-of-a-binary-string/\n",
      "Already in DB, skipping,  2608. Shortest Cycle in a Graph https://leetcode.com/problems/shortest-cycle-in-a-graph/\n",
      "Already in DB, skipping,  2607. Make K-Subarray Sums Equal https://leetcode.com/problems/make-k-subarray-sums-equal/\n",
      "Already in DB, skipping,  2606. Find the Substring With Maximum Cost https://leetcode.com/problems/find-the-substring-with-maximum-cost/\n",
      "Already in DB, skipping,  2605. Form Smallest Number From Two Digit Arrays https://leetcode.com/problems/form-smallest-number-from-two-digit-arrays/\n",
      "Premium problem, skipping 2604. Minimum Time to Eat All Grains\n",
      "Array\n",
      "Binary Search\n",
      "Sorting\n",
      "Already in DB, skipping,  2603. Collect Coins in a Tree https://leetcode.com/problems/collect-coins-in-a-tree/\n",
      "Already in DB, skipping,  2602. Minimum Operations to Make All Array Elements Equal https://leetcode.com/problems/minimum-operations-to-make-all-array-elements-equal/\n",
      "Already in DB, skipping,  2601. Prime Subtraction Operation https://leetcode.com/problems/prime-subtraction-operation/\n",
      "Already in DB, skipping,  2600. K Items With the Maximum Sum https://leetcode.com/problems/k-items-with-the-maximum-sum/\n",
      "Premium problem, skipping 2599. Make the Prefix Sum Non-negative\n",
      "Array\n",
      "Greedy\n",
      "Heap (Priority Queue)\n",
      "Already in DB, skipping,  2598. Smallest Missing Non-negative Integer After Operations https://leetcode.com/problems/smallest-missing-non-negative-integer-after-operations/\n",
      "Already in DB, skipping,  2597. The Number of Beautiful Subsets https://leetcode.com/problems/the-number-of-beautiful-subsets/\n",
      "Already in DB, skipping,  2596. Check Knight Tour Configuration https://leetcode.com/problems/check-knight-tour-configuration/\n",
      "Already in DB, skipping,  2595. Number of Even and Odd Bits https://leetcode.com/problems/number-of-even-and-odd-bits/\n",
      "Already in DB, skipping,  2594. Minimum Time to Repair Cars https://leetcode.com/problems/minimum-time-to-repair-cars/\n",
      "Already in DB, skipping,  2593. Find Score of an Array After Marking All Elements https://leetcode.com/problems/find-score-of-an-array-after-marking-all-elements/\n",
      "Already in DB, skipping,  2592. Maximize Greatness of an Array https://leetcode.com/problems/maximize-greatness-of-an-array/\n",
      "Already in DB, skipping,  2591. Distribute Money to Maximum Children https://leetcode.com/problems/distribute-money-to-maximum-children/\n",
      "Premium problem, skipping 2590. Design a Todo List\n",
      "Array\n",
      "Hash Table\n",
      "String\n",
      "2+\n",
      "Already in DB, skipping,  2589. Minimum Time to Complete All Tasks https://leetcode.com/problems/minimum-time-to-complete-all-tasks/\n",
      "Already in DB, skipping,  2588. Count the Number of Beautiful Subarrays https://leetcode.com/problems/count-the-number-of-beautiful-subarrays/\n",
      "Already in DB, skipping,  2587. Rearrange Array to Maximize Prefix Score https://leetcode.com/problems/rearrange-array-to-maximize-prefix-score/\n",
      "Already in DB, skipping,  2586. Count the Number of Vowel Strings in Range https://leetcode.com/problems/count-the-number-of-vowel-strings-in-range/\n",
      "Already in DB, skipping,  2585. Number of Ways to Earn Points https://leetcode.com/problems/number-of-ways-to-earn-points/\n",
      "Already in DB, skipping,  2584. Split the Array to Make Coprime Products https://leetcode.com/problems/split-the-array-to-make-coprime-products/\n",
      "Already in DB, skipping,  2583. Kth Largest Sum in a Binary Tree https://leetcode.com/problems/kth-largest-sum-in-a-binary-tree/\n",
      "Already in DB, skipping,  2582. Pass the Pillow https://leetcode.com/problems/pass-the-pillow/\n",
      "Already in DB, skipping,  2581. Count Number of Possible Root Nodes https://leetcode.com/problems/count-number-of-possible-root-nodes/\n",
      "Already in DB, skipping,  2580. Count Ways to Group Overlapping Ranges https://leetcode.com/problems/count-ways-to-group-overlapping-ranges/\n",
      "Already in DB, skipping,  2579. Count Total Number of Colored Cells https://leetcode.com/problems/count-total-number-of-colored-cells/\n",
      "Already in DB, skipping,  2578. Split With Minimum Sum https://leetcode.com/problems/split-with-minimum-sum/\n",
      "Already in DB, skipping,  2577. Minimum Time to Visit a Cell In a Grid https://leetcode.com/problems/minimum-time-to-visit-a-cell-in-a-grid/\n",
      "Already in DB, skipping,  2576. Find the Maximum Number of Marked Indices https://leetcode.com/problems/find-the-maximum-number-of-marked-indices/\n",
      "Already in DB, skipping,  2575. Find the Divisibility Array of a String https://leetcode.com/problems/find-the-divisibility-array-of-a-string/\n",
      "Already in DB, skipping,  2574. Left and Right Sum Differences https://leetcode.com/problems/left-and-right-sum-differences/\n",
      "Already in DB, skipping,  2573. Find the String with LCP https://leetcode.com/problems/find-the-string-with-lcp/\n",
      "Already in DB, skipping,  2572. Count the Number of Square-Free Subsets https://leetcode.com/problems/count-the-number-of-square-free-subsets/\n",
      "Already in DB, skipping,  2571. Minimum Operations to Reduce an Integer to 0 https://leetcode.com/problems/minimum-operations-to-reduce-an-integer-to-0/\n",
      "Already in DB, skipping,  2570. Merge Two 2D Arrays by Summing Values https://leetcode.com/problems/merge-two-2d-arrays-by-summing-values/\n",
      "Already in DB, skipping,  2569. Handling Sum Queries After Update https://leetcode.com/problems/handling-sum-queries-after-update/\n",
      "Already in DB, skipping,  2568. Minimum Impossible OR https://leetcode.com/problems/minimum-impossible-or/\n",
      "Already in DB, skipping,  2567. Minimum Score by Changing Two Elements https://leetcode.com/problems/minimum-score-by-changing-two-elements/\n",
      "Already in DB, skipping,  2566. Maximum Difference by Remapping a Digit https://leetcode.com/problems/maximum-difference-by-remapping-a-digit/\n",
      "Already in DB, skipping,  2565. Subsequence With the Minimum Score https://leetcode.com/problems/subsequence-with-the-minimum-score/\n",
      "Already in DB, skipping,  2564. Substring XOR Queries https://leetcode.com/problems/substring-xor-queries/\n",
      "Already in DB, skipping,  2563. Count the Number of Fair Pairs https://leetcode.com/problems/count-the-number-of-fair-pairs/\n",
      "Already in DB, skipping,  2562. Find the Array Concatenation Value https://leetcode.com/problems/find-the-array-concatenation-value/\n",
      "Already in DB, skipping,  2561. Rearranging Fruits https://leetcode.com/problems/rearranging-fruits/\n",
      "Already in DB, skipping,  2560. House Robber IV https://leetcode.com/problems/house-robber-iv/\n",
      "Already in DB, skipping,  2559. Count Vowel Strings in Ranges https://leetcode.com/problems/count-vowel-strings-in-ranges/\n",
      "Already in DB, skipping,  2558. Take Gifts From the Richest Pile https://leetcode.com/problems/take-gifts-from-the-richest-pile/\n",
      "Premium problem, skipping 2557. Maximum Number of Integers to Choose From a Range II\n",
      "Array\n",
      "Binary Search\n",
      "Greedy\n",
      "1+\n",
      "Already in DB, skipping,  2556. Disconnect Path in a Binary Matrix by at Most One Flip https://leetcode.com/problems/disconnect-path-in-a-binary-matrix-by-at-most-one-flip/\n",
      "Already in DB, skipping,  2555. Maximize Win From Two Segments https://leetcode.com/problems/maximize-win-from-two-segments/\n",
      "Getting problem links\n",
      "Already in DB, skipping,  2554. Maximum Number of Integers to Choose From a Range I https://leetcode.com/problems/maximum-number-of-integers-to-choose-from-a-range-i/\n",
      "Already in DB, skipping,  2553. Separate the Digits in an Array https://leetcode.com/problems/separate-the-digits-in-an-array/\n",
      "Already in DB, skipping,  2552. Count Increasing Quadruplets https://leetcode.com/problems/count-increasing-quadruplets/\n",
      "Already in DB, skipping,  2551. Put Marbles in Bags https://leetcode.com/problems/put-marbles-in-bags/\n",
      "Already in DB, skipping,  2550. Count Collisions of Monkeys on a Polygon https://leetcode.com/problems/count-collisions-of-monkeys-on-a-polygon/\n",
      "Already in DB, skipping,  2549. Count Distinct Numbers on Board https://leetcode.com/problems/count-distinct-numbers-on-board/\n",
      "Premium problem, skipping 2548. Maximum Price to Fill a Bag\n",
      "Array\n",
      "Greedy\n",
      "Sorting\n",
      "Already in DB, skipping,  2547. Minimum Cost to Split an Array https://leetcode.com/problems/minimum-cost-to-split-an-array/\n",
      "Already in DB, skipping,  2546. Apply Bitwise Operations to Make Strings Equal https://leetcode.com/problems/apply-bitwise-operations-to-make-strings-equal/\n",
      "Already in DB, skipping,  2545. Sort the Students by Their Kth Score https://leetcode.com/problems/sort-the-students-by-their-kth-score/\n",
      "Already in DB, skipping,  2544. Alternating Digit Sum https://leetcode.com/problems/alternating-digit-sum/\n",
      "Already in DB, skipping,  2543. Check if Point Is Reachable https://leetcode.com/problems/check-if-point-is-reachable/\n",
      "Already in DB, skipping,  2542. Maximum Subsequence Score https://leetcode.com/problems/maximum-subsequence-score/\n",
      "Already in DB, skipping,  2541. Minimum Operations to Make Array Equal II https://leetcode.com/problems/minimum-operations-to-make-array-equal-ii/\n",
      "Already in DB, skipping,  2540. Minimum Common Value https://leetcode.com/problems/minimum-common-value/\n",
      "Premium problem, skipping 2539. Count the Number of Good Subsequences\n",
      "Hash Table\n",
      "Math\n",
      "String\n",
      "2+\n",
      "Already in DB, skipping,  2538. Difference Between Maximum and Minimum Price Sum https://leetcode.com/problems/difference-between-maximum-and-minimum-price-sum/\n",
      "Already in DB, skipping,  2537. Count the Number of Good Subarrays https://leetcode.com/problems/count-the-number-of-good-subarrays/\n",
      "Already in DB, skipping,  2536. Increment Submatrices by One https://leetcode.com/problems/increment-submatrices-by-one/\n",
      "Already in DB, skipping,  2535. Difference Between Element Sum and Digit Sum of an Array https://leetcode.com/problems/difference-between-element-sum-and-digit-sum-of-an-array/\n",
      "Premium problem, skipping 2534. Time Taken to Cross the Door\n",
      "Array\n",
      "Queue\n",
      "Simulation\n",
      "Premium problem, skipping 2533. Number of Good Binary Strings\n",
      "Dynamic Programming\n",
      "Already in DB, skipping,  2532. Time to Cross a Bridge https://leetcode.com/problems/time-to-cross-a-bridge/\n",
      "Already in DB, skipping,  2531. Make Number of Distinct Characters Equal https://leetcode.com/problems/make-number-of-distinct-characters-equal/\n",
      "Already in DB, skipping,  2530. Maximal Score After Applying K Operations https://leetcode.com/problems/maximal-score-after-applying-k-operations/\n",
      "Already in DB, skipping,  2529. Maximum Count of Positive Integer and Negative Integer https://leetcode.com/problems/maximum-count-of-positive-integer-and-negative-integer/\n",
      "Already in DB, skipping,  2528. Maximize the Minimum Powered City https://leetcode.com/problems/maximize-the-minimum-powered-city/\n",
      "Already in DB, skipping,  2527. Find Xor-Beauty of Array https://leetcode.com/problems/find-xor-beauty-of-array/\n",
      "Already in DB, skipping,  2526. Find Consecutive Integers from a Data Stream https://leetcode.com/problems/find-consecutive-integers-from-a-data-stream/\n",
      "Already in DB, skipping,  2525. Categorize Box According to Criteria https://leetcode.com/problems/categorize-box-according-to-criteria/\n",
      "Premium problem, skipping 2524. Maximum Frequency Score of a Subarray\n",
      "Array\n",
      "Hash Table\n",
      "Math\n",
      "1+\n",
      "Already in DB, skipping,  2523. Closest Prime Numbers in Range https://leetcode.com/problems/closest-prime-numbers-in-range/\n",
      "Already in DB, skipping,  2522. Partition String Into Substrings With Values at Most K https://leetcode.com/problems/partition-string-into-substrings-with-values-at-most-k/\n",
      "Already in DB, skipping,  2521. Distinct Prime Factors of Product of Array https://leetcode.com/problems/distinct-prime-factors-of-product-of-array/\n",
      "Already in DB, skipping,  2520. Count the Digits That Divide a Number https://leetcode.com/problems/count-the-digits-that-divide-a-number/\n",
      "Premium problem, skipping 2519. Count the Number of K-Big Indices\n",
      "Array\n",
      "Binary Search\n",
      "Divide and Conquer\n",
      "4+\n",
      "Already in DB, skipping,  2518. Number of Great Partitions https://leetcode.com/problems/number-of-great-partitions/\n",
      "Already in DB, skipping,  2517. Maximum Tastiness of Candy Basket https://leetcode.com/problems/maximum-tastiness-of-candy-basket/\n",
      "Already in DB, skipping,  2516. Take K of Each Character From Left and Right https://leetcode.com/problems/take-k-of-each-character-from-left-and-right/\n",
      "Already in DB, skipping,  2515. Shortest Distance to Target String in a Circular Array https://leetcode.com/problems/shortest-distance-to-target-string-in-a-circular-array/\n",
      "Already in DB, skipping,  2514. Count Anagrams https://leetcode.com/problems/count-anagrams/\n",
      "Already in DB, skipping,  2513. Minimize the Maximum of Two Arrays https://leetcode.com/problems/minimize-the-maximum-of-two-arrays/\n",
      "Already in DB, skipping,  2512. Reward Top K Students https://leetcode.com/problems/reward-top-k-students/\n",
      "Already in DB, skipping,  2511. Maximum Enemy Forts That Can Be Captured https://leetcode.com/problems/maximum-enemy-forts-that-can-be-captured/\n",
      "Premium problem, skipping 2510. Check if There is a Path With Equal Number of 0's And 1's\n",
      "Array\n",
      "Dynamic Programming\n",
      "Matrix\n",
      "Already in DB, skipping,  2509. Cycle Length Queries in a Tree https://leetcode.com/problems/cycle-length-queries-in-a-tree/\n",
      "Already in DB, skipping,  2508. Add Edges to Make Degrees of All Nodes Even https://leetcode.com/problems/add-edges-to-make-degrees-of-all-nodes-even/\n",
      "Already in DB, skipping,  2507. Smallest Value After Replacing With Sum of Prime Factors https://leetcode.com/problems/smallest-value-after-replacing-with-sum-of-prime-factors/\n",
      "Already in DB, skipping,  2506. Count Pairs Of Similar Strings https://leetcode.com/problems/count-pairs-of-similar-strings/\n",
      "Premium problem, skipping 2505. Bitwise OR of All Subsequence Sums\n",
      "Array\n",
      "Math\n",
      "Bit Manipulation\n",
      "1+\n",
      "Premium problem, skipping 2504. Concatenate the Name and the Profession\n",
      "Database\n",
      "Already in DB, skipping,  2503. Maximum Number of Points From Grid Queries https://leetcode.com/problems/maximum-number-of-points-from-grid-queries/\n",
      "Already in DB, skipping,  2502. Design Memory Allocator https://leetcode.com/problems/design-memory-allocator/\n",
      "Already in DB, skipping,  2501. Longest Square Streak in an Array https://leetcode.com/problems/longest-square-streak-in-an-array/\n",
      "Already in DB, skipping,  2500. Delete Greatest Value in Each Row https://leetcode.com/problems/delete-greatest-value-in-each-row/\n",
      "Already in DB, skipping,  2499. Minimum Total Cost to Make Arrays Unequal https://leetcode.com/problems/minimum-total-cost-to-make-arrays-unequal/\n",
      "Already in DB, skipping,  2498. Frog Jump II https://leetcode.com/problems/frog-jump-ii/\n",
      "Already in DB, skipping,  2497. Maximum Star Sum of a Graph https://leetcode.com/problems/maximum-star-sum-of-a-graph/\n",
      "Already in DB, skipping,  2496. Maximum Value of a String in an Array https://leetcode.com/problems/maximum-value-of-a-string-in-an-array/\n",
      "Premium problem, skipping 2495. Number of Subarrays Having Even Product\n",
      "Array\n",
      "Math\n",
      "Dynamic Programming\n",
      "Premium problem, skipping 2494. Merge Overlapping Events in the Same Hall\n",
      "Database\n",
      "Already in DB, skipping,  2493. Divide Nodes Into the Maximum Number of Groups https://leetcode.com/problems/divide-nodes-into-the-maximum-number-of-groups/\n",
      "Already in DB, skipping,  2492. Minimum Score of a Path Between Two Cities https://leetcode.com/problems/minimum-score-of-a-path-between-two-cities/\n",
      "Already in DB, skipping,  2491. Divide Players Into Teams of Equal Skill https://leetcode.com/problems/divide-players-into-teams-of-equal-skill/\n",
      "Already in DB, skipping,  2490. Circular Sentence https://leetcode.com/problems/circular-sentence/\n",
      "Premium problem, skipping 2489. Number of Substrings With Fixed Ratio\n",
      "Hash Table\n",
      "Math\n",
      "String\n",
      "1+\n",
      "Already in DB, skipping,  2488. Count Subarrays With Median K https://leetcode.com/problems/count-subarrays-with-median-k/\n",
      "Already in DB, skipping,  2487. Remove Nodes From Linked List https://leetcode.com/problems/remove-nodes-from-linked-list/\n",
      "Already in DB, skipping,  2486. Append Characters to String to Make Subsequence https://leetcode.com/problems/append-characters-to-string-to-make-subsequence/\n",
      "Already in DB, skipping,  2485. Find the Pivot Integer https://leetcode.com/problems/find-the-pivot-integer/\n",
      "Already in DB, skipping,  2484. Count Palindromic Subsequences https://leetcode.com/problems/count-palindromic-subsequences/\n",
      "Already in DB, skipping,  2483. Minimum Penalty for a Shop https://leetcode.com/problems/minimum-penalty-for-a-shop/\n",
      "Already in DB, skipping,  2482. Difference Between Ones and Zeros in Row and Column https://leetcode.com/problems/difference-between-ones-and-zeros-in-row-and-column/\n",
      "Already in DB, skipping,  2481. Minimum Cuts to Divide a Circle https://leetcode.com/problems/minimum-cuts-to-divide-a-circle/\n",
      "Premium problem, skipping 2480. Form a Chemical Bond\n",
      "Database\n",
      "Premium problem, skipping 2479. Maximum XOR of Two Non-Overlapping Subtrees\n",
      "Tree\n",
      "Depth-First Search\n",
      "Graph\n",
      "1+\n",
      "Already in DB, skipping,  2478. Number of Beautiful Partitions https://leetcode.com/problems/number-of-beautiful-partitions/\n",
      "Already in DB, skipping,  2477. Minimum Fuel Cost to Report to the Capital https://leetcode.com/problems/minimum-fuel-cost-to-report-to-the-capital/\n",
      "Already in DB, skipping,  2476. Closest Nodes Queries in a Binary Search Tree https://leetcode.com/problems/closest-nodes-queries-in-a-binary-search-tree/\n",
      "Already in DB, skipping,  2475. Number of Unequal Triplets in Array https://leetcode.com/problems/number-of-unequal-triplets-in-array/\n",
      "Premium problem, skipping 2474. Customers With Strictly Increasing Purchases\n",
      "Database\n",
      "Premium problem, skipping 2473. Minimum Cost to Buy Apples\n",
      "Array\n",
      "Graph\n",
      "Heap (Priority Queue)\n",
      "1+\n",
      "Already in DB, skipping,  2472. Maximum Number of Non-overlapping Palindrome Substrings https://leetcode.com/problems/maximum-number-of-non-overlapping-palindrome-substrings/\n",
      "Already in DB, skipping,  2471. Minimum Number of Operations to Sort a Binary Tree by Level https://leetcode.com/problems/minimum-number-of-operations-to-sort-a-binary-tree-by-level/\n",
      "Already in DB, skipping,  2470. Number of Subarrays With LCM Equal to K https://leetcode.com/problems/number-of-subarrays-with-lcm-equal-to-k/\n",
      "Already in DB, skipping,  2469. Convert the Temperature https://leetcode.com/problems/convert-the-temperature/\n",
      "Already in DB, skipping,  2468. Split Message Based on Limit https://leetcode.com/problems/split-message-based-on-limit/\n",
      "Already in DB, skipping,  2467. Most Profitable Path in a Tree https://leetcode.com/problems/most-profitable-path-in-a-tree/\n",
      "Already in DB, skipping,  2466. Count Ways To Build Good Strings https://leetcode.com/problems/count-ways-to-build-good-strings/\n",
      "Already in DB, skipping,  2465. Number of Distinct Averages https://leetcode.com/problems/number-of-distinct-averages/\n",
      "Premium problem, skipping 2464. Minimum Subarrays in a Valid Split\n",
      "Array\n",
      "Math\n",
      "Dynamic Programming\n",
      "1+\n",
      "Already in DB, skipping,  2463. Minimum Total Distance Traveled https://leetcode.com/problems/minimum-total-distance-traveled/\n",
      "Already in DB, skipping,  2462. Total Cost to Hire K Workers https://leetcode.com/problems/total-cost-to-hire-k-workers/\n",
      "Already in DB, skipping,  2461. Maximum Sum of Distinct Subarrays With Length K https://leetcode.com/problems/maximum-sum-of-distinct-subarrays-with-length-k/\n",
      "Already in DB, skipping,  2460. Apply Operations to an Array https://leetcode.com/problems/apply-operations-to-an-array/\n",
      "Premium problem, skipping 2459. Sort Array by Moving Items to Empty Space\n",
      "Array\n",
      "Greedy\n",
      "Sorting\n",
      "Already in DB, skipping,  2458. Height of Binary Tree After Subtree Removal Queries https://leetcode.com/problems/height-of-binary-tree-after-subtree-removal-queries/\n",
      "Already in DB, skipping,  2457. Minimum Addition to Make Integer Beautiful https://leetcode.com/problems/minimum-addition-to-make-integer-beautiful/\n",
      "Already in DB, skipping,  2456. Most Popular Video Creator https://leetcode.com/problems/most-popular-video-creator/\n",
      "Already in DB, skipping,  2455. Average Value of Even Numbers That Are Divisible by Three https://leetcode.com/problems/average-value-of-even-numbers-that-are-divisible-by-three/\n",
      "Getting problem links\n",
      "Already in DB, skipping,  2454. Next Greater Element IV https://leetcode.com/problems/next-greater-element-iv/\n",
      "Already in DB, skipping,  2453. Destroy Sequential Targets https://leetcode.com/problems/destroy-sequential-targets/\n",
      "Already in DB, skipping,  2452. Words Within Two Edits of Dictionary https://leetcode.com/problems/words-within-two-edits-of-dictionary/\n",
      "Already in DB, skipping,  2451. Odd String Difference https://leetcode.com/problems/odd-string-difference/\n",
      "Premium problem, skipping 2450. Number of Distinct Binary Strings After Applying Operations\n",
      "Math\n",
      "String\n",
      "Already in DB, skipping,  2449. Minimum Number of Operations to Make Arrays Similar https://leetcode.com/problems/minimum-number-of-operations-to-make-arrays-similar/\n",
      "Already in DB, skipping,  2448. Minimum Cost to Make Array Equal https://leetcode.com/problems/minimum-cost-to-make-array-equal/\n",
      "Already in DB, skipping,  2447. Number of Subarrays With GCD Equal to K https://leetcode.com/problems/number-of-subarrays-with-gcd-equal-to-k/\n",
      "Already in DB, skipping,  2446. Determine if Two Events Have Conflict https://leetcode.com/problems/determine-if-two-events-have-conflict/\n",
      "Premium problem, skipping 2445. Number of Nodes With Value One\n",
      "Tree\n",
      "Depth-First Search\n",
      "2+\n",
      "Already in DB, skipping,  2444. Count Subarrays With Fixed Bounds https://leetcode.com/problems/count-subarrays-with-fixed-bounds/\n",
      "Already in DB, skipping,  2443. Sum of Number and Its Reverse https://leetcode.com/problems/sum-of-number-and-its-reverse/\n",
      "Already in DB, skipping,  2442. Count Number of Distinct Integers After Reverse Operations https://leetcode.com/problems/count-number-of-distinct-integers-after-reverse-operations/\n",
      "Already in DB, skipping,  2441. Largest Positive Integer That Exists With Its Negative https://leetcode.com/problems/largest-positive-integer-that-exists-with-its-negative/\n",
      "Already in DB, skipping,  2440. Create Components With Same Value https://leetcode.com/problems/create-components-with-same-value/\n",
      "Already in DB, skipping,  2439. Minimize Maximum of Array https://leetcode.com/problems/minimize-maximum-of-array/\n",
      "Already in DB, skipping,  2438. Range Product Queries of Powers https://leetcode.com/problems/range-product-queries-of-powers/\n",
      "Already in DB, skipping,  2437. Number of Valid Clock Times https://leetcode.com/problems/number-of-valid-clock-times/\n",
      "Premium problem, skipping 2436. Minimum Split Into Subarrays With GCD Greater Than One\n",
      "Array\n",
      "Math\n",
      "Dynamic Programming\n",
      "2+\n",
      "Already in DB, skipping,  2435. Paths in Matrix Whose Sum Is Divisible by K https://leetcode.com/problems/paths-in-matrix-whose-sum-is-divisible-by-k/\n",
      "2434. Using a Robot to Print the Lexicographically Smallest String\n",
      "2433. Find The Original Array of Prefix Xor\n",
      "2432. The Employee That Worked on the Longest Task\n",
      "Premium problem, skipping 2431. Maximize Total Tastiness of Purchased Fruits\n",
      "Array\n",
      "Dynamic Programming\n",
      "2430. Maximum Deletions on a String\n",
      "2429. Minimize XOR\n",
      "No more pages to scrape\n",
      "Problem links scraped, now scraping problem pages\n",
      "{'https://leetcode.com/problems/using-a-robot-to-print-the-lexicographically-smallest-string/': 'Using a Robot to Print the Lexicographically Smallest String', 'https://leetcode.com/problems/find-the-original-array-of-prefix-xor/': 'Find The Original Array of Prefix Xor', 'https://leetcode.com/problems/the-employee-that-worked-on-the-longest-task/': 'The Employee That Worked on the Longest Task', 'https://leetcode.com/problems/maximum-deletions-on-a-string/': 'Maximum Deletions on a String', 'https://leetcode.com/problems/minimize-xor/': 'Minimize XOR'}\n",
      "Ratings:  Medium 544 142\n",
      "Found Submissions Section:  Accepted\n",
      "14.2K\n",
      "Submissions\n",
      "37K\n",
      "Acceptance Rate\n",
      "38.4%\n",
      "Found Submissions Stats:  ['14.2K', '37K', '38.4%']\n",
      "here\n",
      "Added problem:  Using a Robot to Print the Lexicographically Smallest String\n",
      "Problem data:  {'number': '2434', 'link': 'https://leetcode.com/problems/using-a-robot-to-print-the-lexicographically-smallest-string/', 'tags': ['hash-table', 'string', 'stack', 'greedy'], 'difficulty': 'Medium', 'number-submitted': '3.70e+04', 'number-accepted': '1.42e+04', 'acceptance-rate': '38.4%', 'thumbs-up': '544', 'thumbs-down': '142', 'update-time': datetime.datetime(2023, 4, 26, 2, 51, 9, 53344)}\n",
      "Ratings:  Medium 482 25\n",
      "Found Submissions Section:  Accepted\n",
      "33.1K\n",
      "Submissions\n",
      "38.8K\n",
      "Acceptance Rate\n",
      "85.3%\n",
      "Found Submissions Stats:  ['33.1K', '38.8K', '85.3%']\n",
      "here\n",
      "Added problem:  Find The Original Array of Prefix Xor\n",
      "Problem data:  {'number': '2433', 'link': 'https://leetcode.com/problems/find-the-original-array-of-prefix-xor/', 'tags': ['array', 'bit-manipulation'], 'difficulty': 'Medium', 'number-submitted': '3.88e+04', 'number-accepted': '3.31e+04', 'acceptance-rate': '85.3%', 'thumbs-up': '482', 'thumbs-down': '25', 'update-time': datetime.datetime(2023, 4, 26, 2, 51, 10, 563637)}\n",
      "Ratings:  Easy 213 48\n",
      "Found Submissions Section:  Accepted\n",
      "27.7K\n",
      "Submissions\n",
      "55.9K\n",
      "Acceptance Rate\n",
      "49.5%\n",
      "Found Submissions Stats:  ['27.7K', '55.9K', '49.5%']\n",
      "here\n",
      "Added problem:  The Employee That Worked on the Longest Task\n",
      "Problem data:  {'number': '2432', 'link': 'https://leetcode.com/problems/the-employee-that-worked-on-the-longest-task/', 'tags': ['array'], 'difficulty': 'Easy', 'number-submitted': '5.59e+04', 'number-accepted': '2.77e+04', 'acceptance-rate': '49.5%', 'thumbs-up': '213', 'thumbs-down': '48', 'update-time': datetime.datetime(2023, 4, 26, 2, 51, 12, 129433)}\n",
      "Ratings:  Hard 389 46\n",
      "Found Submissions Section:  Accepted\n",
      "10.5K\n",
      "Submissions\n",
      "32.7K\n",
      "Acceptance Rate\n",
      "31.9%\n",
      "Found Submissions Stats:  ['10.5K', '32.7K', '31.9%']\n",
      "here\n",
      "Added problem:  Maximum Deletions on a String\n",
      "Problem data:  {'number': '2430', 'link': 'https://leetcode.com/problems/maximum-deletions-on-a-string/', 'tags': ['string', 'dynamic-programming', 'rolling-hash', 'string-matching', 'hash-function'], 'difficulty': 'Hard', 'number-submitted': '3.27e+04', 'number-accepted': '1.05e+04', 'acceptance-rate': '31.9%', 'thumbs-up': '389', 'thumbs-down': '46', 'update-time': datetime.datetime(2023, 4, 26, 2, 51, 13, 496238)}\n",
      "Ratings:  Medium 352 17\n",
      "Found Submissions Section:  Accepted\n",
      "17.8K\n",
      "Submissions\n",
      "41.9K\n",
      "Acceptance Rate\n",
      "42.5%\n",
      "Found Submissions Stats:  ['17.8K', '41.9K', '42.5%']\n",
      "here\n",
      "Added problem:  Minimize XOR\n",
      "Problem data:  {'number': '2429', 'link': 'https://leetcode.com/problems/minimize-xor/', 'tags': ['greedy', 'bit-manipulation'], 'difficulty': 'Medium', 'number-submitted': '4.19e+04', 'number-accepted': '1.78e+04', 'acceptance-rate': '42.5%', 'thumbs-up': '352', 'thumbs-down': '17', 'update-time': datetime.datetime(2023, 4, 26, 2, 51, 14, 863347)}\n",
      "Scraping complete\n"
     ]
    }
   ],
   "source": [
    "data = scrapers.problemScraper(driver, existingProblems, 5)"
   ]
  },
  {
   "cell_type": "code",
   "execution_count": 6,
   "metadata": {},
   "outputs": [
    {
     "name": "stdout",
     "output_type": "stream",
     "text": [
      "Using a Robot to Print the Lexicographically Smallest String\n",
      "{'number': '2434', 'link': 'https://leetcode.com/problems/using-a-robot-to-print-the-lexicographically-smallest-string/', 'tags': ['hash-table', 'string', 'stack', 'greedy'], 'difficulty': 'Medium', 'number-submitted': '3.70e+04', 'number-accepted': '1.42e+04', 'acceptance-rate': '38.4%', 'thumbs-up': '544', 'thumbs-down': '142', 'update-time': datetime.datetime(2023, 4, 26, 2, 51, 9, 53344)}\n",
      "Find The Original Array of Prefix Xor\n",
      "{'number': '2433', 'link': 'https://leetcode.com/problems/find-the-original-array-of-prefix-xor/', 'tags': ['array', 'bit-manipulation'], 'difficulty': 'Medium', 'number-submitted': '3.88e+04', 'number-accepted': '3.31e+04', 'acceptance-rate': '85.3%', 'thumbs-up': '482', 'thumbs-down': '25', 'update-time': datetime.datetime(2023, 4, 26, 2, 51, 10, 563637)}\n",
      "The Employee That Worked on the Longest Task\n",
      "{'number': '2432', 'link': 'https://leetcode.com/problems/the-employee-that-worked-on-the-longest-task/', 'tags': ['array'], 'difficulty': 'Easy', 'number-submitted': '5.59e+04', 'number-accepted': '2.77e+04', 'acceptance-rate': '49.5%', 'thumbs-up': '213', 'thumbs-down': '48', 'update-time': datetime.datetime(2023, 4, 26, 2, 51, 12, 129433)}\n",
      "Maximum Deletions on a String\n",
      "{'number': '2430', 'link': 'https://leetcode.com/problems/maximum-deletions-on-a-string/', 'tags': ['string', 'dynamic-programming', 'rolling-hash', 'string-matching', 'hash-function'], 'difficulty': 'Hard', 'number-submitted': '3.27e+04', 'number-accepted': '1.05e+04', 'acceptance-rate': '31.9%', 'thumbs-up': '389', 'thumbs-down': '46', 'update-time': datetime.datetime(2023, 4, 26, 2, 51, 13, 496238)}\n",
      "Minimize XOR\n",
      "{'number': '2429', 'link': 'https://leetcode.com/problems/minimize-xor/', 'tags': ['greedy', 'bit-manipulation'], 'difficulty': 'Medium', 'number-submitted': '4.19e+04', 'number-accepted': '1.78e+04', 'acceptance-rate': '42.5%', 'thumbs-up': '352', 'thumbs-down': '17', 'update-time': datetime.datetime(2023, 4, 26, 2, 51, 14, 863347)}\n"
     ]
    }
   ],
   "source": [
    "for d in data:\n",
    "    print(d)\n",
    "    print(data[d])"
   ]
  },
  {
   "cell_type": "code",
   "execution_count": 11,
   "metadata": {},
   "outputs": [],
   "source": [
    "driver.close()"
   ]
  },
  {
   "cell_type": "code",
   "execution_count": 7,
   "metadata": {},
   "outputs": [
    {
     "name": "stdout",
     "output_type": "stream",
     "text": [
      "Using a Robot to Print the Lexicographically Smallest String\n",
      "Find The Original Array of Prefix Xor\n",
      "The Employee That Worked on the Longest Task\n",
      "Maximum Deletions on a String\n",
      "Minimize XOR\n"
     ]
    }
   ],
   "source": [
    "utils.dbHandler.writeProblemsToDB(data)"
   ]
  },
  {
   "cell_type": "code",
   "execution_count": 55,
   "metadata": {},
   "outputs": [
    {
     "data": {
      "text/plain": [
       "'1'"
      ]
     },
     "execution_count": 55,
     "metadata": {},
     "output_type": "execute_result"
    }
   ],
   "source": [
    "utils.Utils.expandNumber('1')"
   ]
  },
  {
   "cell_type": "code",
   "execution_count": 37,
   "metadata": {},
   "outputs": [
    {
     "name": "stdout",
     "output_type": "stream",
     "text": [
      "<class 'str'>\n"
     ]
    }
   ],
   "source": [
    "print(type(test))"
   ]
  },
  {
   "cell_type": "code",
   "execution_count": 40,
   "metadata": {},
   "outputs": [
    {
     "data": {
      "text/plain": [
       "'913'"
      ]
     },
     "execution_count": 40,
     "metadata": {},
     "output_type": "execute_result"
    }
   ],
   "source": [
    "test"
   ]
  },
  {
   "cell_type": "code",
   "execution_count": 35,
   "metadata": {},
   "outputs": [
    {
     "name": "stdout",
     "output_type": "stream",
     "text": [
      "None\n"
     ]
    }
   ],
   "source": [
    "print(test)"
   ]
  },
  {
   "cell_type": "code",
   "execution_count": 13,
   "metadata": {},
   "outputs": [
    {
     "name": "stdout",
     "output_type": "stream",
     "text": [
      "15\n",
      "Subs ID Set:  {'911794321', '936122577', '935000691', '911657480', '936682868', '931480528', '927489961', '912312377', '915905133', '926197849', '926972040', '935997091', '914612461', '925165878', '936120754'}\n",
      "Subs Dict:  {'936682868': {'title': 'Find the Maximum Divisibility Score'}, '936122577': {'title': 'Defanging an IP Address'}, '936120754': {'title': 'Convert the Temperature'}, '935997091': {'title': 'Merge Strings Alternately'}, '935000691': {'title': 'Kids With the Greatest Number of Candies'}, '931480528': {'title': 'Valid Parentheses'}, '927489961': {'title': 'Valid Anagram'}, '926972040': {'title': 'Boats to Save People'}, '926197849': {'title': 'Binary Search'}, '925165878': {'title': 'Reverse Linked List'}, '915905133': {'title': 'Check Completeness of a Binary Tree'}, '914612461': {'title': 'Symmetric Tree'}, '912312377': {'title': 'Binary Search'}, '911794321': {'title': 'Linked List Cycle'}, '911657480': {'title': 'Baseball Game'}}\n",
      "911794321\n",
      "936122577\n",
      "935000691\n",
      "911657480\n",
      "936682868\n",
      "931480528\n",
      "927489961\n",
      "912312377\n",
      "915905133\n",
      "926197849\n",
      "926972040\n",
      "935997091\n",
      "914612461\n",
      "925165878\n",
      "936120754\n"
     ]
    }
   ],
   "source": [
    "data1, data2 = scrapers.profileScraper('kevindsmith115', set())"
   ]
  },
  {
   "cell_type": "code",
   "execution_count": 14,
   "metadata": {},
   "outputs": [
    {
     "name": "stdout",
     "output_type": "stream",
     "text": [
      "{'936682868': {'title': 'Find the Maximum Divisibility Score', 'problem-title': 'Find the Maximum Divisibility Score', 'runtime': '4262 ms', 'memory': '14.2 MB', 'language': 'python3', 'runtime-percentile': '49.90', 'memory-percentile': '49.48'}, '936122577': {'title': 'Defanging an IP Address', 'problem-title': 'Defanging an IP Address', 'runtime': '59 ms', 'memory': '42.1 MB', 'language': 'javascript', 'runtime-percentile': '46.26', 'memory-percentile': '21.55'}, '936120754': {'title': 'Convert the Temperature', 'problem-title': 'Convert the Temperature', 'runtime': '69 ms', 'memory': '42.9 MB', 'language': 'typescript', 'runtime-percentile': '16.97', 'memory-percentile': '50.91'}, '935997091': {'title': 'Merge Strings Alternately', 'problem-title': 'Merge Strings Alternately', 'runtime': '37 ms', 'memory': '13.8 MB', 'language': 'python3', 'runtime-percentile': '17.86', 'memory-percentile': '55.15'}, '935000691': {'title': 'Kids With the Greatest Number of Candies', 'problem-title': 'Kids With the Greatest Number of Candies', 'runtime': '48 ms', 'memory': '13.9 MB', 'language': 'python3', 'runtime-percentile': '5.33', 'memory-percentile': 'N/A'}, '931480528': {'title': 'Valid Parentheses', 'problem-title': 'Valid Parentheses', 'runtime': '35 ms', 'memory': '13.8 MB', 'language': 'python3', 'runtime-percentile': '45.13', 'memory-percentile': '96.03'}, '927489961': {'title': 'Valid Anagram', 'problem-title': 'Valid Anagram', 'runtime': '49 ms', 'memory': '15.1 MB', 'language': 'python3', 'runtime-percentile': '66.99', 'memory-percentile': 'N/A'}, '926972040': {'title': 'Boats to Save People', 'problem-title': 'Boats to Save People', 'runtime': '465 ms', 'memory': '21 MB', 'language': 'python3', 'runtime-percentile': '40.79', 'memory-percentile': '17.36'}, '926197849': {'title': 'Binary Search', 'problem-title': 'Binary Search', 'runtime': '246 ms', 'memory': '15.4 MB', 'language': 'python3', 'runtime-percentile': '36.03', 'memory-percentile': '55.83'}, '925165878': {'title': 'Reverse Linked List', 'problem-title': 'Reverse Linked List', 'runtime': '43 ms', 'memory': '15.3 MB', 'language': 'python3', 'runtime-percentile': '20.83', 'memory-percentile': '86.99'}, '915905133': {'title': 'Check Completeness of a Binary Tree', 'problem-title': 'Check Completeness of a Binary Tree', 'runtime': '37 ms', 'memory': '13.9 MB', 'language': 'python3', 'runtime-percentile': '53.84', 'memory-percentile': '58.16'}, '914612461': {'title': 'Symmetric Tree', 'problem-title': 'Symmetric Tree', 'runtime': '43 ms', 'memory': '13.9 MB', 'language': 'python3', 'runtime-percentile': '12.23', 'memory-percentile': '87.34'}, '912312377': {'title': 'Binary Search', 'problem-title': 'Binary Search', 'runtime': '244 ms', 'memory': '15.4 MB', 'language': 'python3', 'runtime-percentile': '46.42', 'memory-percentile': '55.83'}, '911794321': {'title': 'Linked List Cycle', 'problem-title': 'Linked List Cycle', 'runtime': '50 ms', 'memory': '17.7 MB', 'language': 'python3', 'runtime-percentile': '89.48', 'memory-percentile': '19.93'}, '911657480': {'title': 'Baseball Game', 'problem-title': 'Baseball Game', 'runtime': '44 ms', 'memory': '14.1 MB', 'language': 'python3', 'runtime-percentile': '44.32', 'memory-percentile': '66.93'}}\n"
     ]
    }
   ],
   "source": [
    "print(data1)"
   ]
  },
  {
   "cell_type": "code",
   "execution_count": 16,
   "metadata": {},
   "outputs": [
    {
     "name": "stdout",
     "output_type": "stream",
     "text": [
      "{'936682868': {'title': 'Find the Maximum Divisibility Score', 'runtime': '4262 ms', 'memory': '14.2 MB', 'language': 'python3', 'runtime-percentile': '49.90', 'memory-percentile': '49.48'}, '936122577': {'title': 'Defanging an IP Address', 'runtime': '59 ms', 'memory': '42.1 MB', 'language': 'javascript', 'runtime-percentile': '46.26', 'memory-percentile': '21.55'}, '936120754': {'title': 'Convert the Temperature', 'runtime': '69 ms', 'memory': '42.9 MB', 'language': 'typescript', 'runtime-percentile': '16.97', 'memory-percentile': '50.91'}, '935997091': {'title': 'Merge Strings Alternately', 'runtime': '37 ms', 'memory': '13.8 MB', 'language': 'python3', 'runtime-percentile': '17.86', 'memory-percentile': '55.15'}, '935000691': {'title': 'Kids With the Greatest Number of Candies', 'runtime': '48 ms', 'memory': '13.9 MB', 'language': 'python3', 'runtime-percentile': '5.33', 'memory-percentile': 'N/A'}, '931480528': {'title': 'Valid Parentheses', 'runtime': '35 ms', 'memory': '13.8 MB', 'language': 'python3', 'runtime-percentile': '45.13', 'memory-percentile': '96.03'}, '927489961': {'title': 'Valid Anagram', 'runtime': '49 ms', 'memory': '15.1 MB', 'language': 'python3', 'runtime-percentile': '66.99', 'memory-percentile': 'N/A'}, '926972040': {'title': 'Boats to Save People', 'runtime': '465 ms', 'memory': '21 MB', 'language': 'python3', 'runtime-percentile': '40.79', 'memory-percentile': '17.36'}, '926197849': {'title': 'Binary Search', 'runtime': '246 ms', 'memory': '15.4 MB', 'language': 'python3', 'runtime-percentile': '36.03', 'memory-percentile': '55.83'}, '925165878': {'title': 'Reverse Linked List', 'runtime': '43 ms', 'memory': '15.3 MB', 'language': 'python3', 'runtime-percentile': '20.83', 'memory-percentile': '86.99'}, '915905133': {'title': 'Check Completeness of a Binary Tree', 'runtime': '37 ms', 'memory': '13.9 MB', 'language': 'python3', 'runtime-percentile': '53.84', 'memory-percentile': '58.16'}, '914612461': {'title': 'Symmetric Tree', 'runtime': '43 ms', 'memory': '13.9 MB', 'language': 'python3', 'runtime-percentile': '12.23', 'memory-percentile': '87.34'}, '912312377': {'title': 'Binary Search', 'runtime': '244 ms', 'memory': '15.4 MB', 'language': 'python3', 'runtime-percentile': '46.42', 'memory-percentile': '55.83'}, '911794321': {'title': 'Linked List Cycle', 'runtime': '50 ms', 'memory': '17.7 MB', 'language': 'python3', 'runtime-percentile': '89.48', 'memory-percentile': '19.93'}, '911657480': {'title': 'Baseball Game', 'runtime': '44 ms', 'memory': '14.1 MB', 'language': 'python3', 'runtime-percentile': '44.32', 'memory-percentile': '66.93'}}\n"
     ]
    }
   ],
   "source": [
    "for d in data1:\n",
    "    data1[d].pop('problem-title')\n",
    "print(data1)"
   ]
  },
  {
   "cell_type": "code",
   "execution_count": 17,
   "metadata": {},
   "outputs": [
    {
     "name": "stdout",
     "output_type": "stream",
     "text": [
      "set()\n"
     ]
    }
   ],
   "source": [
    "print(data2)"
   ]
  },
  {
   "cell_type": "code",
   "execution_count": 18,
   "metadata": {},
   "outputs": [
    {
     "data": {
      "text/html": [
       "<div>\n",
       "<style scoped>\n",
       "    .dataframe tbody tr th:only-of-type {\n",
       "        vertical-align: middle;\n",
       "    }\n",
       "\n",
       "    .dataframe tbody tr th {\n",
       "        vertical-align: top;\n",
       "    }\n",
       "\n",
       "    .dataframe thead th {\n",
       "        text-align: right;\n",
       "    }\n",
       "</style>\n",
       "<table border=\"1\" class=\"dataframe\">\n",
       "  <thead>\n",
       "    <tr style=\"text-align: right;\">\n",
       "      <th></th>\n",
       "      <th>title</th>\n",
       "      <th>runtime</th>\n",
       "      <th>memory</th>\n",
       "      <th>language</th>\n",
       "      <th>runtime-percentile</th>\n",
       "      <th>memory-percentile</th>\n",
       "    </tr>\n",
       "  </thead>\n",
       "  <tbody>\n",
       "    <tr>\n",
       "      <th>936682868</th>\n",
       "      <td>Find the Maximum Divisibility Score</td>\n",
       "      <td>4262 ms</td>\n",
       "      <td>14.2 MB</td>\n",
       "      <td>python3</td>\n",
       "      <td>49.90</td>\n",
       "      <td>49.48</td>\n",
       "    </tr>\n",
       "    <tr>\n",
       "      <th>936122577</th>\n",
       "      <td>Defanging an IP Address</td>\n",
       "      <td>59 ms</td>\n",
       "      <td>42.1 MB</td>\n",
       "      <td>javascript</td>\n",
       "      <td>46.26</td>\n",
       "      <td>21.55</td>\n",
       "    </tr>\n",
       "    <tr>\n",
       "      <th>936120754</th>\n",
       "      <td>Convert the Temperature</td>\n",
       "      <td>69 ms</td>\n",
       "      <td>42.9 MB</td>\n",
       "      <td>typescript</td>\n",
       "      <td>16.97</td>\n",
       "      <td>50.91</td>\n",
       "    </tr>\n",
       "    <tr>\n",
       "      <th>935997091</th>\n",
       "      <td>Merge Strings Alternately</td>\n",
       "      <td>37 ms</td>\n",
       "      <td>13.8 MB</td>\n",
       "      <td>python3</td>\n",
       "      <td>17.86</td>\n",
       "      <td>55.15</td>\n",
       "    </tr>\n",
       "    <tr>\n",
       "      <th>935000691</th>\n",
       "      <td>Kids With the Greatest Number of Candies</td>\n",
       "      <td>48 ms</td>\n",
       "      <td>13.9 MB</td>\n",
       "      <td>python3</td>\n",
       "      <td>5.33</td>\n",
       "      <td>N/A</td>\n",
       "    </tr>\n",
       "  </tbody>\n",
       "</table>\n",
       "</div>"
      ],
      "text/plain": [
       "                                              title  runtime   memory   \n",
       "936682868       Find the Maximum Divisibility Score  4262 ms  14.2 MB  \\\n",
       "936122577                   Defanging an IP Address    59 ms  42.1 MB   \n",
       "936120754                   Convert the Temperature    69 ms  42.9 MB   \n",
       "935997091                 Merge Strings Alternately    37 ms  13.8 MB   \n",
       "935000691  Kids With the Greatest Number of Candies    48 ms  13.9 MB   \n",
       "\n",
       "             language runtime-percentile memory-percentile  \n",
       "936682868     python3              49.90             49.48  \n",
       "936122577  javascript              46.26             21.55  \n",
       "936120754  typescript              16.97             50.91  \n",
       "935997091     python3              17.86             55.15  \n",
       "935000691     python3               5.33               N/A  "
      ]
     },
     "execution_count": 18,
     "metadata": {},
     "output_type": "execute_result"
    }
   ],
   "source": [
    "import pandas as pd\n",
    "profdf = pd.DataFrame.from_dict(data1, orient='index')\n",
    "profdf.head()"
   ]
  },
  {
   "cell_type": "code",
   "execution_count": 46,
   "metadata": {},
   "outputs": [
    {
     "data": {
      "text/plain": [
       "936682868         Find the Maximum Divisibility Score\n",
       "936122577                     Defanging an IP Address\n",
       "936120754                     Convert the Temperature\n",
       "935997091                   Merge Strings Alternately\n",
       "935000691    Kids With the Greatest Number of Candies\n",
       "931480528                           Valid Parentheses\n",
       "927489961                               Valid Anagram\n",
       "926972040                        Boats to Save People\n",
       "926197849                               Binary Search\n",
       "925165878                         Reverse Linked List\n",
       "915905133         Check Completeness of a Binary Tree\n",
       "914612461                              Symmetric Tree\n",
       "912312377                               Binary Search\n",
       "911794321                           Linked List Cycle\n",
       "911657480                               Baseball Game\n",
       "Name: title, dtype: object"
      ]
     },
     "execution_count": 46,
     "metadata": {},
     "output_type": "execute_result"
    }
   ],
   "source": [
    "profdf['title']"
   ]
  },
  {
   "cell_type": "code",
   "execution_count": 37,
   "metadata": {},
   "outputs": [],
   "source": [
    "test = utils.dbHandler.getProblemDataFromTitle('Add Digits')"
   ]
  },
  {
   "cell_type": "code",
   "execution_count": 38,
   "metadata": {},
   "outputs": [
    {
     "name": "stdout",
     "output_type": "stream",
     "text": [
      "('69420', '258. Add Digits')\n"
     ]
    }
   ],
   "source": [
    "print(test)"
   ]
  },
  {
   "cell_type": "code",
   "execution_count": 53,
   "metadata": {},
   "outputs": [
    {
     "name": "stdout",
     "output_type": "stream",
     "text": [
      "{'936682868': 'Find the Maximum Divisibility Score', '936122577': 'Defanging an IP Address', '936120754': 'Convert the Temperature', '935997091': 'Merge Strings Alternately', '935000691': 'Kids With the Greatest Number of Candies', '931480528': 'Valid Parentheses', '927489961': 'Valid Anagram', '926972040': 'Boats to Save People', '926197849': 'Binary Search', '925165878': 'Reverse Linked List', '915905133': 'Check Completeness of a Binary Tree', '914612461': 'Symmetric Tree', '912312377': 'Binary Search', '911794321': 'Linked List Cycle', '911657480': 'Baseball Game'}\n",
      "0 936682868\n",
      "1 936122577\n",
      "Problem not in DB, skipping\n",
      "2 936120754\n",
      "3 935997091\n",
      "Problem not in DB, skipping\n",
      "4 935000691\n",
      "Problem not in DB, skipping\n",
      "5 931480528\n",
      "Problem not in DB, skipping\n",
      "6 927489961\n",
      "Problem not in DB, skipping\n",
      "7 926972040\n",
      "Problem not in DB, skipping\n",
      "8 926197849\n",
      "Problem not in DB, skipping\n",
      "9 925165878\n",
      "Problem not in DB, skipping\n",
      "10 915905133\n",
      "Problem not in DB, skipping\n",
      "11 914612461\n",
      "Problem not in DB, skipping\n",
      "12 912312377\n",
      "Problem not in DB, skipping\n",
      "13 911794321\n",
      "Problem not in DB, skipping\n",
      "14 911657480\n",
      "Problem not in DB, skipping\n"
     ]
    }
   ],
   "source": [
    "utils.dbHandler.writeSampleSubmissionsToDB(profdf['title'].to_dict())"
   ]
  },
  {
   "cell_type": "code",
   "execution_count": null,
   "metadata": {},
   "outputs": [],
   "source": []
  }
 ],
 "metadata": {
  "kernelspec": {
   "display_name": "Python 3 (ipykernel)",
   "language": "python",
   "name": "python3"
  },
  "language_info": {
   "codemirror_mode": {
    "name": "ipython",
    "version": 3
   },
   "file_extension": ".py",
   "mimetype": "text/x-python",
   "name": "python",
   "nbconvert_exporter": "python",
   "pygments_lexer": "ipython3",
   "version": "3.9.13"
  },
  "orig_nbformat": 4
 },
 "nbformat": 4,
 "nbformat_minor": 2
}
