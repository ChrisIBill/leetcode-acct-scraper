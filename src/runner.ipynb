{
 "cells": [
  {
   "cell_type": "code",
   "execution_count": 1,
   "metadata": {},
   "outputs": [],
   "source": [
    "%load_ext autoreload\n",
    "%autoreload 2"
   ]
  },
  {
   "cell_type": "code",
   "execution_count": 2,
   "metadata": {
    "tags": []
   },
   "outputs": [],
   "source": [
    "import importlib\n",
    "import scrapers\n",
    "import utils\n",
    "from selenium.webdriver.common.by import By"
   ]
  },
  {
   "cell_type": "code",
   "execution_count": 3,
   "metadata": {},
   "outputs": [],
   "source": [
    "driver = utils.launchDriver()"
   ]
  },
  {
   "cell_type": "code",
   "execution_count": 4,
   "metadata": {},
   "outputs": [],
   "source": []
  },
  {
   "cell_type": "code",
   "execution_count": 4,
   "metadata": {},
   "outputs": [
    {
     "ename": "NoSuchElementException",
     "evalue": "Message: no such element: Unable to locate element: {\"method\":\"css selector\",\"selector\":\"div.grid >div:first-child >div:last-child\"}\n  (Session info: chrome=112.0.5615.49)\nStacktrace:\n#0 0x559028c27fe3 <unknown>\n#1 0x559028966d36 <unknown>\n#2 0x5590289a3c4d <unknown>\n#3 0x5590289a3d61 <unknown>\n#4 0x5590289df6a4 <unknown>\n#5 0x5590289c48ed <unknown>\n#6 0x5590289dd232 <unknown>\n#7 0x5590289c4693 <unknown>\n#8 0x55902899703a <unknown>\n#9 0x55902899817e <unknown>\n#10 0x559028be9dbd <unknown>\n#11 0x559028bedc6c <unknown>\n#12 0x559028bf74b0 <unknown>\n#13 0x559028beed63 <unknown>\n#14 0x559028bc1c35 <unknown>\n#15 0x559028c12138 <unknown>\n#16 0x559028c122c7 <unknown>\n#17 0x559028c20093 <unknown>\n#18 0x7f8b09694b43 <unknown>\n",
     "output_type": "error",
     "traceback": [
      "\u001b[0;31m---------------------------------------------------------------------------\u001b[0m",
      "\u001b[0;31mNoSuchElementException\u001b[0m                    Traceback (most recent call last)",
      "Cell \u001b[0;32mIn[4], line 1\u001b[0m\n\u001b[0;32m----> 1\u001b[0m pageCore \u001b[39m=\u001b[39m driver\u001b[39m.\u001b[39;49mfind_element(\n\u001b[1;32m      2\u001b[0m     By\u001b[39m.\u001b[39;49mCSS_SELECTOR, value\u001b[39m=\u001b[39;49m\u001b[39m\"\u001b[39;49m\u001b[39mdiv.grid >div:first-child >div:last-child\u001b[39;49m\u001b[39m\"\u001b[39;49m)\n",
      "File \u001b[0;32m~/coding/projects/leetcode-acct-scraper/venv/lib/python3.9/site-packages/selenium/webdriver/remote/webdriver.py:831\u001b[0m, in \u001b[0;36mWebDriver.find_element\u001b[0;34m(self, by, value)\u001b[0m\n\u001b[1;32m    828\u001b[0m     by \u001b[39m=\u001b[39m By\u001b[39m.\u001b[39mCSS_SELECTOR\n\u001b[1;32m    829\u001b[0m     value \u001b[39m=\u001b[39m \u001b[39mf\u001b[39m\u001b[39m'\u001b[39m\u001b[39m[name=\u001b[39m\u001b[39m\"\u001b[39m\u001b[39m{\u001b[39;00mvalue\u001b[39m}\u001b[39;00m\u001b[39m\"\u001b[39m\u001b[39m]\u001b[39m\u001b[39m'\u001b[39m\n\u001b[0;32m--> 831\u001b[0m \u001b[39mreturn\u001b[39;00m \u001b[39mself\u001b[39;49m\u001b[39m.\u001b[39;49mexecute(Command\u001b[39m.\u001b[39;49mFIND_ELEMENT, {\u001b[39m\"\u001b[39;49m\u001b[39musing\u001b[39;49m\u001b[39m\"\u001b[39;49m: by, \u001b[39m\"\u001b[39;49m\u001b[39mvalue\u001b[39;49m\u001b[39m\"\u001b[39;49m: value})[\u001b[39m\"\u001b[39m\u001b[39mvalue\u001b[39m\u001b[39m\"\u001b[39m]\n",
      "File \u001b[0;32m~/coding/projects/leetcode-acct-scraper/venv/lib/python3.9/site-packages/selenium/webdriver/remote/webdriver.py:440\u001b[0m, in \u001b[0;36mWebDriver.execute\u001b[0;34m(self, driver_command, params)\u001b[0m\n\u001b[1;32m    438\u001b[0m response \u001b[39m=\u001b[39m \u001b[39mself\u001b[39m\u001b[39m.\u001b[39mcommand_executor\u001b[39m.\u001b[39mexecute(driver_command, params)\n\u001b[1;32m    439\u001b[0m \u001b[39mif\u001b[39;00m response:\n\u001b[0;32m--> 440\u001b[0m     \u001b[39mself\u001b[39;49m\u001b[39m.\u001b[39;49merror_handler\u001b[39m.\u001b[39;49mcheck_response(response)\n\u001b[1;32m    441\u001b[0m     response[\u001b[39m\"\u001b[39m\u001b[39mvalue\u001b[39m\u001b[39m\"\u001b[39m] \u001b[39m=\u001b[39m \u001b[39mself\u001b[39m\u001b[39m.\u001b[39m_unwrap_value(response\u001b[39m.\u001b[39mget(\u001b[39m\"\u001b[39m\u001b[39mvalue\u001b[39m\u001b[39m\"\u001b[39m, \u001b[39mNone\u001b[39;00m))\n\u001b[1;32m    442\u001b[0m     \u001b[39mreturn\u001b[39;00m response\n",
      "File \u001b[0;32m~/coding/projects/leetcode-acct-scraper/venv/lib/python3.9/site-packages/selenium/webdriver/remote/errorhandler.py:245\u001b[0m, in \u001b[0;36mErrorHandler.check_response\u001b[0;34m(self, response)\u001b[0m\n\u001b[1;32m    243\u001b[0m         alert_text \u001b[39m=\u001b[39m value[\u001b[39m\"\u001b[39m\u001b[39malert\u001b[39m\u001b[39m\"\u001b[39m]\u001b[39m.\u001b[39mget(\u001b[39m\"\u001b[39m\u001b[39mtext\u001b[39m\u001b[39m\"\u001b[39m)\n\u001b[1;32m    244\u001b[0m     \u001b[39mraise\u001b[39;00m exception_class(message, screen, stacktrace, alert_text)  \u001b[39m# type: ignore[call-arg]  # mypy is not smart enough here\u001b[39;00m\n\u001b[0;32m--> 245\u001b[0m \u001b[39mraise\u001b[39;00m exception_class(message, screen, stacktrace)\n",
      "\u001b[0;31mNoSuchElementException\u001b[0m: Message: no such element: Unable to locate element: {\"method\":\"css selector\",\"selector\":\"div.grid >div:first-child >div:last-child\"}\n  (Session info: chrome=112.0.5615.49)\nStacktrace:\n#0 0x559028c27fe3 <unknown>\n#1 0x559028966d36 <unknown>\n#2 0x5590289a3c4d <unknown>\n#3 0x5590289a3d61 <unknown>\n#4 0x5590289df6a4 <unknown>\n#5 0x5590289c48ed <unknown>\n#6 0x5590289dd232 <unknown>\n#7 0x5590289c4693 <unknown>\n#8 0x55902899703a <unknown>\n#9 0x55902899817e <unknown>\n#10 0x559028be9dbd <unknown>\n#11 0x559028bedc6c <unknown>\n#12 0x559028bf74b0 <unknown>\n#13 0x559028beed63 <unknown>\n#14 0x559028bc1c35 <unknown>\n#15 0x559028c12138 <unknown>\n#16 0x559028c122c7 <unknown>\n#17 0x559028c20093 <unknown>\n#18 0x7f8b09694b43 <unknown>\n"
     ]
    }
   ],
   "source": [
    "pageCore = driver.find_element(\n",
    "    By.CSS_SELECTOR, value=\"div.grid >div:first-child >div:last-child\")"
   ]
  },
  {
   "cell_type": "code",
   "execution_count": 5,
   "metadata": {},
   "outputs": [
    {
     "ename": "NameError",
     "evalue": "name 'pageCore' is not defined",
     "output_type": "error",
     "traceback": [
      "\u001b[0;31m---------------------------------------------------------------------------\u001b[0m",
      "\u001b[0;31mNameError\u001b[0m                                 Traceback (most recent call last)",
      "Cell \u001b[0;32mIn[5], line 1\u001b[0m\n\u001b[0;32m----> 1\u001b[0m scrapers\u001b[39m.\u001b[39mprepProblemPage(pageCore)\n",
      "\u001b[0;31mNameError\u001b[0m: name 'pageCore' is not defined"
     ]
    }
   ],
   "source": [
    "pageCore = scrapers.prepProblemPage(driver)"
   ]
  },
  {
   "cell_type": "code",
   "execution_count": 6,
   "metadata": {},
   "outputs": [],
   "source": [
    "#driver.close()"
   ]
  }
 ],
 "metadata": {
  "kernelspec": {
   "display_name": "Python 3 (ipykernel)",
   "language": "python",
   "name": "python3"
  },
  "language_info": {
   "codemirror_mode": {
    "name": "ipython",
    "version": 3
   },
   "file_extension": ".py",
   "mimetype": "text/x-python",
   "name": "python",
   "nbconvert_exporter": "python",
   "pygments_lexer": "ipython3",
   "version": "3.9.13"
  },
  "orig_nbformat": 4
 },
 "nbformat": 4,
 "nbformat_minor": 2
}
