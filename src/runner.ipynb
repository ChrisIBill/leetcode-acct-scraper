{
 "cells": [
  {
   "cell_type": "code",
   "execution_count": 6,
   "metadata": {},
   "outputs": [
    {
     "ename": "ModuleNotFoundError",
     "evalue": "No module named 'src'",
     "output_type": "error",
     "traceback": [
      "\u001b[0;31m---------------------------------------------------------------------------\u001b[0m",
      "\u001b[0;31mModuleNotFoundError\u001b[0m                       Traceback (most recent call last)",
      "Cell \u001b[0;32mIn[6], line 2\u001b[0m\n\u001b[1;32m      1\u001b[0m \u001b[39mimport\u001b[39;00m \u001b[39mvalidators\u001b[39;00m\n\u001b[0;32m----> 2\u001b[0m \u001b[39mimport\u001b[39;00m \u001b[39mscrapers\u001b[39;00m\n\u001b[1;32m      3\u001b[0m \u001b[39mimport\u001b[39;00m \u001b[39mutils\u001b[39;00m\n\u001b[1;32m      4\u001b[0m scrapers\u001b[39m.\u001b[39mtest()\n",
      "File \u001b[0;32m~/coding/projects/leetcode-acct-scraper/src/scrapers/__init__.py:3\u001b[0m\n\u001b[1;32m      1\u001b[0m \u001b[39mfrom\u001b[39;00m \u001b[39m.\u001b[39;00m\u001b[39macctScraper\u001b[39;00m \u001b[39mimport\u001b[39;00m acctScraper\n\u001b[1;32m      2\u001b[0m \u001b[39mfrom\u001b[39;00m \u001b[39m.\u001b[39;00m\u001b[39mproblemScraper\u001b[39;00m \u001b[39mimport\u001b[39;00m problemScraper\n\u001b[0;32m----> 3\u001b[0m \u001b[39mfrom\u001b[39;00m \u001b[39m.\u001b[39;00m\u001b[39mprofileScraper\u001b[39;00m \u001b[39mimport\u001b[39;00m profileScraper\n\u001b[1;32m      4\u001b[0m \u001b[39mfrom\u001b[39;00m \u001b[39m.\u001b[39;00m\u001b[39mpageHandlers\u001b[39;00m \u001b[39mimport\u001b[39;00m loginPageHandler, submissionPageHandler, problemSubmissionPageHandler, chartModalHandler, test\n",
      "File \u001b[0;32m~/coding/projects/leetcode-acct-scraper/src/scrapers/profileScraper.py:12\u001b[0m\n\u001b[1;32m     10\u001b[0m \u001b[39mfrom\u001b[39;00m \u001b[39mselenium\u001b[39;00m\u001b[39m.\u001b[39;00m\u001b[39mwebdriver\u001b[39;00m\u001b[39m.\u001b[39;00m\u001b[39mchrome\u001b[39;00m\u001b[39m.\u001b[39;00m\u001b[39mservice\u001b[39;00m \u001b[39mimport\u001b[39;00m Service \u001b[39mas\u001b[39;00m ChromeService\n\u001b[1;32m     11\u001b[0m \u001b[39mfrom\u001b[39;00m \u001b[39mwebdriver_manager\u001b[39;00m\u001b[39m.\u001b[39;00m\u001b[39mchrome\u001b[39;00m \u001b[39mimport\u001b[39;00m ChromeDriverManager\n\u001b[0;32m---> 12\u001b[0m \u001b[39mfrom\u001b[39;00m \u001b[39msrc\u001b[39;00m\u001b[39m.\u001b[39;00m\u001b[39mscrapers\u001b[39;00m\u001b[39m.\u001b[39;00m\u001b[39mpageHandlers\u001b[39;00m \u001b[39mimport\u001b[39;00m loginPageHandler, submissionPageHandler\n\u001b[1;32m     13\u001b[0m \u001b[39m# from utils.dbHandler import writeSubmissionsToDB, writeUserdataToDB\u001b[39;00m\n\u001b[1;32m     16\u001b[0m \u001b[39mdef\u001b[39;00m \u001b[39mprofileScraper\u001b[39m(username, existingSubmissions\u001b[39m=\u001b[39m\u001b[39mset\u001b[39m()):\n\u001b[1;32m     17\u001b[0m     \u001b[39m## INIT##\u001b[39;00m\n",
      "\u001b[0;31mModuleNotFoundError\u001b[0m: No module named 'src'"
     ]
    }
   ],
   "source": [
    "import validators\n",
    "import scrapers\n",
    "import utils\n",
    "scrapers.test()"
   ]
  },
  {
   "cell_type": "code",
   "execution_count": null,
   "metadata": {},
   "outputs": [],
   "source": []
  }
 ],
 "metadata": {
  "kernelspec": {
   "display_name": "Python 3 (ipykernel)",
   "language": "python",
   "name": "python3"
  },
  "language_info": {
   "codemirror_mode": {
    "name": "ipython",
    "version": 3
   },
   "file_extension": ".py",
   "mimetype": "text/x-python",
   "name": "python",
   "nbconvert_exporter": "python",
   "pygments_lexer": "ipython3",
   "version": "3.9.16"
  },
  "orig_nbformat": 4
 },
 "nbformat": 4,
 "nbformat_minor": 2
}
